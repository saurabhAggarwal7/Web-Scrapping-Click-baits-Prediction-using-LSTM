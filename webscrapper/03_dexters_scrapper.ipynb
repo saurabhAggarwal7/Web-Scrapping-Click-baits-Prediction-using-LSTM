{
 "cells": [
  {
   "cell_type": "code",
   "execution_count": 2,
   "metadata": {
    "colab": {},
    "colab_type": "code",
    "id": "ZVk0HiXVGtH5"
   },
   "outputs": [],
   "source": [
    "import pandas as pd\n",
    "from sklearn.model_selection import train_test_split\n",
    "\n",
    "clickbait_titles = pd.read_csv('data/Clickbait.csv')\n",
    "non_clickbait_titles = pd.read_csv('data/NonClickbait.csv')\n",
    "\n",
    "clickbait_features = pd.read_csv('data/clickbait_website_features.csv')\n",
    "non_clickbait_features = pd.read_csv('data/non_clickbait_website_features.csv')\n",
    "\n",
    "clickbait_entire = pd.concat([clickbait_titles, clickbait_features], axis=1)               \n",
    "non_clickbait_entire = pd.concat([non_clickbait_titles, non_clickbait_features], axis=1)\n",
    "\n",
    "clickbait_entire['label'] = 1\n",
    "non_clickbait_entire['label'] = 0\n",
    "\n",
    "fulldata = pd.concat([clickbait_entire, non_clickbait_entire],sort=True)                    \n",
    "fulldata = fulldata.sample(frac=1).reset_index(drop=True)\n",
    "fulldata = fulldata[fulldata.html_len != -1]\n",
    "\n",
    "fulldata.to_csv('data/fulldata.csv', index=False)\n",
    "\n",
    "\n",
    "df = pd.read_csv('data/fulldata.csv')\n",
    "\n",
    "\n",
    "training_df, testing_df = train_test_split(df, random_state=42, test_size=0.1)\n",
    "\n",
    "training_df.to_csv('data/train.csv', index=False, encoding='utf-8')\n",
    "testing_df.to_csv('data/test.csv', index=False, encoding='utf-8')"
   ]
  },
  {
   "cell_type": "code",
   "execution_count": null,
   "metadata": {},
   "outputs": [],
   "source": []
  },
  {
   "cell_type": "code",
   "execution_count": null,
   "metadata": {},
   "outputs": [],
   "source": []
  }
 ],
 "metadata": {
  "accelerator": "GPU",
  "colab": {
   "name": "03_dexters_scrapper.ipynb",
   "provenance": [],
   "version": "0.3.2"
  },
  "kernelspec": {
   "display_name": "Python 3",
   "language": "python",
   "name": "python3"
  },
  "language_info": {
   "codemirror_mode": {
    "name": "ipython",
    "version": 3
   },
   "file_extension": ".py",
   "mimetype": "text/x-python",
   "name": "python",
   "nbconvert_exporter": "python",
   "pygments_lexer": "ipython3",
   "version": "3.6.6"
  }
 },
 "nbformat": 4,
 "nbformat_minor": 1
}
