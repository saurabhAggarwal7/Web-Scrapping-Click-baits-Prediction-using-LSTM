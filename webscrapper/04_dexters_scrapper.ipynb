{
 "cells": [
  {
   "cell_type": "code",
   "execution_count": 5,
   "metadata": {
    "colab": {},
    "colab_type": "code",
    "id": "ZfSNoTK2Hlzb"
   },
   "outputs": [
    {
     "name": "stderr",
     "output_type": "stream",
     "text": [
      "C:\\Users\\Abhishek\\Anaconda3\\lib\\site-packages\\ipykernel_launcher.py:18: UserWarning: Pandas doesn't allow columns to be created via a new attribute name - see https://pandas.pydata.org/pandas-docs/stable/indexing.html#attribute-access\n",
      "C:\\Users\\Abhishek\\Anaconda3\\lib\\site-packages\\ipykernel_launcher.py:21: UserWarning: Pandas doesn't allow columns to be created via a new attribute name - see https://pandas.pydata.org/pandas-docs/stable/indexing.html#attribute-access\n"
     ]
    }
   ],
   "source": [
    "import pandas as pd\n",
    "from sklearn.model_selection import train_test_split\n",
    "\n",
    "stop_words = ['site', 'navigation', 'new', 'times', 'york', 'information', 'index',\n",
    "                      'like', 'related', 'search', 'follow', 'subscribe', 'subscribed', 'subscribing',\n",
    "                       'spam', 'twitter', 'pinterest', 'facebook', 'google', 'privacy', 'policy', 'feedback',\n",
    "                       'tweet', 'tweets', 'disclaimer', 'buzzfeed', 'clickhole', 'upworthy', 'cnn', 'nytimes',\n",
    "                       'wikinews', 'instagram', 'newsletter', 'copyright', 'cnn.com', 'nytimes.com',\n",
    "                       'buzzfeed.com', 'upworthy.com', 'clickhole.com']\n",
    "\n",
    "\n",
    "def remove_stop_words(x):\n",
    "    return ' '.join([word for word in str(x).lower().split() if word not in stop_words])\n",
    "\n",
    "df = pd.read_csv('data/fulldata.csv')\n",
    "df = df.drop_duplicates()\n",
    "  \n",
    "df.txt = df.textdata.apply(lambda x: str(x).replace('report an issue thanks', '').strip())\n",
    "\n",
    "df.txt = df.txt.apply(remove_stop_words)\n",
    "df.link = df.link_name.apply(remove_stop_words)\n",
    "\n",
    "\n",
    "\n",
    "train_df, test_df = train_test_split(df, random_state=42, test_size=0.1)\n",
    "\n",
    "train_df.to_csv('data/train.csv', index=False, encoding='utf-8')\n",
    "test_df.to_csv('data/test.csv', index=False, encoding='utf-8')"
   ]
  },
  {
   "cell_type": "code",
   "execution_count": null,
   "metadata": {
    "colab": {},
    "colab_type": "code",
    "id": "YO2juH7DaWCP"
   },
   "outputs": [],
   "source": []
  },
  {
   "cell_type": "code",
   "execution_count": null,
   "metadata": {},
   "outputs": [],
   "source": []
  }
 ],
 "metadata": {
  "accelerator": "GPU",
  "colab": {
   "name": "04_dexters_scrapper.ipynb",
   "provenance": [],
   "version": "0.3.2"
  },
  "kernelspec": {
   "display_name": "Python 3",
   "language": "python",
   "name": "python3"
  },
  "language_info": {
   "codemirror_mode": {
    "name": "ipython",
    "version": 3
   },
   "file_extension": ".py",
   "mimetype": "text/x-python",
   "name": "python",
   "nbconvert_exporter": "python",
   "pygments_lexer": "ipython3",
   "version": "3.6.6"
  }
 },
 "nbformat": 4,
 "nbformat_minor": 1
}
