{
 "cells": [
  {
   "cell_type": "code",
   "execution_count": 2,
   "metadata": {
    "colab": {},
    "colab_type": "code",
    "id": "QmCE4PS5jr44"
   },
   "outputs": [],
   "source": [
    "import sys\n",
    "from importlib import reload\n",
    "reload(sys)\n",
    "\n",
    "\n",
    "import pandas as pd\n",
    "import requests\n",
    "from joblib import Parallel, delayed             \n",
    "import pickle                                   \n",
    "from tqdm import tqdm                            \n",
    "\n",
    "\n",
    "def html_extractor(url):                         \n",
    "    try:\n",
    "        cookies = dict(cookies_are='working')\n",
    "        r = requests.get(url, cookies=cookies)\n",
    "        return r.text\n",
    "    except:\n",
    "        return \"no html\""
   ]
  },
  {
   "cell_type": "code",
   "execution_count": 3,
   "metadata": {
    "colab": {},
    "colab_type": "code",
    "id": "SOOj9YO8mke2"
   },
   "outputs": [],
   "source": [
    "clickbaits_df = pd.read_csv('data/Clickbait.csv')"
   ]
  },
  {
   "cell_type": "code",
   "execution_count": 4,
   "metadata": {
    "colab": {
     "base_uri": "https://localhost:8080/",
     "height": 52
    },
    "colab_type": "code",
    "id": "eKpdlCXslMsJ",
    "outputId": "303d72c1-1dfc-4add-bb94-46bcdf014bc8"
   },
   "outputs": [
    {
     "name": "stderr",
     "output_type": "stream",
     "text": [
      "100%|██████████████████████████████████████████████████████████████████████████████| 2137/2137 [01:10<00:00, 31.35it/s]\n",
      "100%|██████████████████████████████████████████████████████████████████████████████| 3019/3019 [02:37<00:00, 14.12it/s]\n"
     ]
    }
   ],
   "source": [
    "non_clickbaits_df = pd.read_csv('data/NonClickbait.csv')\n",
    "\n",
    "clickbait_urls = clickbaits_df.status_link.values                    \n",
    "non_clickbait_urls = non_clickbaits_df.status_link.values\n",
    "\n",
    "\n",
    "clickbait_html = Parallel(n_jobs=40)(delayed(html_extractor)(u) for u in tqdm(clickbait_urls))    \n",
    "pickle.dump(clickbait_html, open('data/clickbait_html.pkl', 'wb'), -1)\n",
    "\n",
    "non_clickbait_html = Parallel(n_jobs=40)(delayed(html_extractor)(u) for u in tqdm(non_clickbait_urls))\n",
    "pickle.dump(non_clickbait_html, open('data/non_clickbait_html.pkl', 'wb'), -1)"
   ]
  },
  {
   "cell_type": "code",
   "execution_count": null,
   "metadata": {},
   "outputs": [],
   "source": []
  }
 ],
 "metadata": {
  "accelerator": "GPU",
  "colab": {
   "name": "01_dexters_scrapper.ipynb",
   "provenance": [],
   "version": "0.3.2"
  },
  "kernelspec": {
   "display_name": "Python 3",
   "language": "python",
   "name": "python3"
  },
  "language_info": {
   "codemirror_mode": {
    "name": "ipython",
    "version": 3
   },
   "file_extension": ".py",
   "mimetype": "text/x-python",
   "name": "python",
   "nbconvert_exporter": "python",
   "pygments_lexer": "ipython3",
   "version": "3.6.6"
  }
 },
 "nbformat": 4,
 "nbformat_minor": 1
}
